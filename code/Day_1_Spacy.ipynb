{
 "cells": [
  {
   "cell_type": "code",
   "execution_count": 1,
   "id": "interesting-swiss",
   "metadata": {},
   "outputs": [],
   "source": [
    "import spacy"
   ]
  },
  {
   "attachments": {
    "spacy.png": {
     "image/png": "[encoded data removed]"
    }
   },
   "cell_type": "markdown",
   "id": "nuclear-proof",
   "metadata": {},
   "source": [
    "![spacy.png](attachment:spacy.png)"
   ]
  },
  {
   "cell_type": "markdown",
   "id": "right-perry",
   "metadata": {},
   "source": [
    "# Classic tokenizer"
   ]
  },
  {
   "cell_type": "code",
   "execution_count": 132,
   "id": "ecological-rough",
   "metadata": {},
   "outputs": [
    {
     "name": "stdout",
     "output_type": "stream",
     "text": [
      "Apple vuole comprare una startup del Regno Unito per un miliardo di dollari\n",
      "text     TAG    POS explained       \n",
      "Apple    SP     verb                \n",
      "vuole    VM     auxiliary           \n",
      "comprare V      verb                \n",
      "una      RI     determiner          \n",
      "startup  S      noun                \n",
      "del      E_RD   adposition          \n",
      "Regno    SP     proper noun         \n",
      "Unito    SP     proper noun         \n",
      "per      E      adposition          \n",
      "un       RI     determiner          \n",
      "miliardo S      noun                \n",
      "di       E      adposition          \n",
      "dollari  S      noun                \n"
     ]
    }
   ],
   "source": [
    "from spacy.lang.it.examples import sentences \n",
    "\n",
    "nlp = spacy.load(\"it_core_news_sm\")\n",
    "doc = nlp(sentences[0])\n",
    "print(doc.text)\n",
    "print(f\"{'text':{8}} {'TAG':{6}} {'POS explained':{20}}\")\n",
    "for token in doc:\n",
    "    print(f'{token.text:{8}} {token.tag_:{6}} {spacy.explain(token.pos_):{20}}')\n",
    "    #print(token.text, token.tag_, token.dep_)"
   ]
  },
  {
   "cell_type": "code",
   "execution_count": null,
   "id": "numeric-bench",
   "metadata": {},
   "outputs": [],
   "source": [
    "# custom"
   ]
  },
  {
   "cell_type": "code",
   "execution_count": 7,
   "id": "electrical-cooler",
   "metadata": {},
   "outputs": [
    {
     "name": "stdout",
     "output_type": "stream",
     "text": [
      "Blank tokenizer : noi, andammo, all'aria, aperta, a, giocare, a, La, Spezia, \n",
      "Default tokenizer : noi, andammo, all', aria, aperta, a, giocare, a, La, Spezia, "
     ]
    }
   ],
   "source": [
    "# Construction 1\n",
    "from spacy.tokenizer import Tokenizer\n",
    "from spacy.lang.it import Italian\n",
    "nlp = Italian()\n",
    "\n",
    "# Creating a blank Tokenizer with just the Italian vocab\n",
    "tokenizer = Tokenizer(nlp.vocab)\n",
    "tokens = tokenizer(\"noi andammo all'aria aperta a giocare a La Spezia\")\n",
    "print(\"Blank tokenizer\",end=\" : \")\n",
    "for token in tokens:\n",
    "    print(token,end=', ')\n",
    " \n",
    "# Construction 2\n",
    "from spacy.lang.it import Italian\n",
    "nlp = Italian()\n",
    "\n",
    "# Creating a Tokenizer with the default settings for Italian\n",
    "tokenizer = nlp.tokenizer\n",
    "tokens = tokenizer(\"noi andammo all'aria aperta a giocare a La Spezia\")\n",
    "print(\"\\nDefault tokenizer\",end=' : ')\n",
    "for token in tokens:\n",
    "    print(token,end=', ')"
   ]
  },
  {
   "cell_type": "markdown",
   "id": "educated-weekend",
   "metadata": {},
   "source": [
    "# Adding special case"
   ]
  },
  {
   "cell_type": "code",
   "execution_count": 10,
   "id": "western-benjamin",
   "metadata": {},
   "outputs": [
    {
     "name": "stdout",
     "output_type": "stream",
     "text": [
      "Normal tokenization :  noi, andammo, all', aria, aperta, a, giocare, a, casarossi, \n",
      "Special case tokenization :  noi, andammo, all', aria, aperta, a, giocare, a, casa, rossi, "
     ]
    }
   ],
   "source": [
    "from spacy.symbols import ORTH\n",
    "nlp = spacy.load(\"it_core_news_sm\")\n",
    "doc = nlp(\"noi andammo all'aria aperta a giocare a casarossi\")  # phrase to tokenize\n",
    "print(\"Normal tokenization : \",end=' ')\n",
    "for token in doc:\n",
    "    print(token,end=', ')\n",
    "\n",
    "special_case = [{ORTH: \"casa\"}, {ORTH: \"rossi\"}]                # Adding special case rule\n",
    "nlp.tokenizer.add_special_case(\"casarossi\", special_case)\n",
    "doc = nlp(\"noi andammo all'aria aperta a giocare a casarossi\")\n",
    "\n",
    "print(\"\\nSpecial case tokenization : \",end=' ')\n",
    "for token in doc:      # Checking new tokenization\n",
    "    print(token,end=', ')"
   ]
  },
  {
   "cell_type": "markdown",
   "id": "substantial-beatles",
   "metadata": {},
   "source": [
    "# Debugging special case"
   ]
  },
  {
   "cell_type": "code",
   "execution_count": 12,
   "id": "broke-lover",
   "metadata": {},
   "outputs": [
    {
     "name": "stdout",
     "output_type": "stream",
     "text": [
      "noi \t TOKEN\n",
      "andammo \t TOKEN\n",
      "all' \t TOKEN\n",
      "aria \t TOKEN\n",
      "aperta \t TOKEN\n",
      "a \t TOKEN\n",
      "giocare \t TOKEN\n",
      "a \t TOKEN\n",
      "casa \t SPECIAL-1\n",
      "rossi \t SPECIAL-2\n"
     ]
    }
   ],
   "source": [
    "text = \"noi andammo all'aria aperta a giocare a casarossi\"\n",
    "doc = nlp(text)\n",
    "tok_exp = nlp.tokenizer.explain(text)\n",
    "\n",
    "for t in tok_exp:\n",
    "    print(t[1], \"\\t\", t[0])"
   ]
  },
  {
   "cell_type": "markdown",
   "id": "satisfied-trick",
   "metadata": {},
   "source": [
    "# Custom tokenizer"
   ]
  },
  {
   "cell_type": "code",
   "execution_count": 29,
   "id": "medieval-injection",
   "metadata": {},
   "outputs": [
    {
     "name": "stdout",
     "output_type": "stream",
     "text": [
      "['*', 'sto', '-', 'male', \"'\", '<3']\n"
     ]
    }
   ],
   "source": [
    "import re\n",
    "import spacy\n",
    "from spacy.tokenizer import Tokenizer\n",
    "\n",
    "special_cases = {\"<3\": [{\"ORTH\": \"<3\"}], \":)\": [{\"ORTH\": \":)\"}]}\n",
    "prefix_re = re.compile(r'''^[\\[\\*(\"']''')\n",
    "suffix_re = re.compile(r'''[\\]\\)\"']$''')\n",
    "infix_re = re.compile(r'''[-~]''')\n",
    "simple_url_re = re.compile(r'''^https?://''')\n",
    "\n",
    "def custom_tokenizer(nlp):\n",
    "    return Tokenizer(nlp.vocab, rules=special_cases,\n",
    "                                prefix_search=prefix_re.search,\n",
    "                                suffix_search=suffix_re.search,\n",
    "                                infix_finditer=infix_re.finditer,\n",
    "                                url_match=simple_url_re.match)\n",
    "\n",
    "nlp = spacy.load(\"it_core_news_sm\")\n",
    "nlp.tokenizer = custom_tokenizer(nlp)\n",
    "doc = nlp(\"*sto-male' <3\")\n",
    "print([t.text for t in doc]) "
   ]
  },
  {
   "cell_type": "code",
   "execution_count": 25,
   "id": "digital-secondary",
   "metadata": {},
   "outputs": [],
   "source": [
    "# adding suffix "
   ]
  },
  {
   "cell_type": "code",
   "execution_count": 51,
   "id": "racial-penalty",
   "metadata": {},
   "outputs": [
    {
     "name": "stdout",
     "output_type": "stream",
     "text": [
      "Default tokenized text :  , oggi+, 100, $, ., \n",
      "Text after adding suffixes :  , oggi, +, 100, $, ., "
     ]
    }
   ],
   "source": [
    "from spacy.lang.it import Italian\n",
    "import spacy\n",
    "\n",
    "nlp = Italian()\n",
    "text = \" oggi+ 100$ .\"\n",
    "doc = nlp(text)\n",
    "\n",
    "print(\"Default tokenized text\",end=' : ')\n",
    "for token in doc:\n",
    "    print(token,end=', ')\n",
    "\n",
    "suffixes = nlp.Defaults.suffixes + [r\"\\-|\\+|\\$\",]\n",
    "suffix_regex = spacy.util.compile_suffix_regex(suffixes)\n",
    "nlp.tokenizer.suffix_search = suffix_regex.search\n",
    "\n",
    "print('\\nText after adding suffixes', end=' : ')\n",
    "doc = nlp(text)\n",
    "for token in doc:\n",
    "    print(token,end=', ')"
   ]
  },
  {
   "cell_type": "code",
   "execution_count": 52,
   "id": "dressed-parks",
   "metadata": {},
   "outputs": [],
   "source": [
    "# removing characters"
   ]
  },
  {
   "cell_type": "code",
   "execution_count": 82,
   "id": "nonprofit-facility",
   "metadata": {},
   "outputs": [
    {
     "name": "stdout",
     "output_type": "stream",
     "text": [
      "Default tokenized text :  , decremento, (, oggi, ), 100$., \n",
      "Text after removing suffixes :  , decremento, (, oggi), 100$., "
     ]
    }
   ],
   "source": [
    "from spacy.lang.it import Italian\n",
    "nlp = Italian()\n",
    "text = \" decremento (oggi) 100$.\"\n",
    "doc = nlp(text)\n",
    "\n",
    "print(\"Default tokenized text\",end=' : ')\n",
    "for token in doc:\n",
    "    print(token,end=', ')\n",
    "\n",
    "suffixes = list(nlp.Defaults.suffixes)\n",
    "suffixes.remove('\\\\)')\n",
    "suffix_regex = spacy.util.compile_suffix_regex(suffixes)\n",
    "nlp.tokenizer.suffix_search = suffix_regex.search\n",
    "\n",
    "print('\\nText after removing suffixes', end=' : ')\n",
    "doc = nlp(text)\n",
    "for token in doc:\n",
    "    print(token,end=', ')"
   ]
  },
  {
   "cell_type": "code",
   "execution_count": 85,
   "id": "biological-limit",
   "metadata": {},
   "outputs": [],
   "source": [
    "#exercise prefix"
   ]
  },
  {
   "cell_type": "code",
   "execution_count": 87,
   "id": "olympic-humanitarian",
   "metadata": {},
   "outputs": [],
   "source": [
    "# define our own class of Tokenization"
   ]
  },
  {
   "cell_type": "code",
   "execution_count": 88,
   "id": "chief-spice",
   "metadata": {},
   "outputs": [
    {
     "name": "stdout",
     "output_type": "stream",
     "text": [
      "['Non', 'ce', 'lo', 'dicono']\n"
     ]
    }
   ],
   "source": [
    "import spacy\n",
    "from spacy.tokens import Doc\n",
    "\n",
    "class WhitespaceTokenizer:\n",
    "    def __init__(self, vocab):\n",
    "        self.vocab = vocab\n",
    "\n",
    "    def __call__(self, text):\n",
    "        words = text.split(\".\")\n",
    "        return Doc(self.vocab, words=words)\n",
    "\n",
    "nlp = spacy.blank(\"it\")\n",
    "nlp.tokenizer = WhitespaceTokenizer(nlp.vocab)\n",
    "doc = nlp(\"Non.ce.lo.dicono\")\n",
    "print([token.text for token in doc])"
   ]
  },
  {
   "cell_type": "markdown",
   "id": "smaller-cinema",
   "metadata": {},
   "source": [
    "# Merging token "
   ]
  },
  {
   "cell_type": "code",
   "execution_count": 91,
   "id": "educational-mongolia",
   "metadata": {},
   "outputs": [
    {
     "name": "stdout",
     "output_type": "stream",
     "text": [
      "Before: ['Io', 'vivo', 'a', 'La', 'Spezia']\n",
      "After: ['Io', 'vivo', 'a', 'La Spezia']\n"
     ]
    }
   ],
   "source": [
    "nlp = spacy.load(\"it_core_news_sm\")\n",
    "\n",
    "doc = nlp(\"Io vivo a La Spezia\")\n",
    "print(\"Before:\", [token.text for token in doc])\n",
    "\n",
    "with doc.retokenize() as retokenizer:\n",
    "    retokenizer.merge(doc[3:5], attrs={\"LEMMA\": \"La Spezia\"})\n",
    "print(\"After:\", [token.text for token in doc])"
   ]
  },
  {
   "cell_type": "markdown",
   "id": "saved-dating",
   "metadata": {},
   "source": [
    "# Splitting tokens"
   ]
  },
  {
   "cell_type": "code",
   "execution_count": 97,
   "id": "mathematical-intelligence",
   "metadata": {},
   "outputs": [
    {
     "name": "stdout",
     "output_type": "stream",
     "text": [
      "Before: ['il', 'DucatiMonster', 'é', 'incredibile']\n",
      "After: ['il', 'Ducati', 'Monster', 'é', 'incredibile']\n"
     ]
    }
   ],
   "source": [
    "from spacy import displacy\n",
    "\n",
    "nlp = spacy.load(\"it_core_news_sm\")\n",
    "doc = nlp(\"il DucatiMonster é incredibile\")\n",
    "print(\"Before:\", [token.text for token in doc])\n",
    "\n",
    "with doc.retokenize() as retokenizer:\n",
    "    heads = [(doc[1], 0), (doc[1], 1)]\n",
    "    retokenizer.split(doc[1], [\"Ducati\", \"Monster\"], heads=heads)\n",
    "print(\"After:\", [token.text for token in doc])"
   ]
  },
  {
   "cell_type": "markdown",
   "id": "connected-vision",
   "metadata": {},
   "source": [
    "# Sentence tokenization"
   ]
  },
  {
   "cell_type": "code",
   "execution_count": 109,
   "id": "present-language",
   "metadata": {},
   "outputs": [
    {
     "name": "stdout",
     "output_type": "stream",
     "text": [
      "True\n",
      "Frase 1.\n",
      "Frase 2.\n"
     ]
    }
   ],
   "source": [
    "import spacy\n",
    "\n",
    "nlp = spacy.load(\"it_core_news_sm\")\n",
    "doc = nlp(\"Frase 1. Frase 2.\")\n",
    "print(doc.has_annotation(\"SENT_START\"))\n",
    "\n",
    "for sent in doc.sents:\n",
    "    print(sent.text)"
   ]
  },
  {
   "cell_type": "code",
   "execution_count": 110,
   "id": "durable-subscription",
   "metadata": {},
   "outputs": [],
   "source": [
    "# custom sentence"
   ]
  },
  {
   "cell_type": "code",
   "execution_count": 112,
   "id": "personalized-gauge",
   "metadata": {},
   "outputs": [
    {
     "name": "stdout",
     "output_type": "stream",
     "text": [
      "Before: ['non ce lo dicono...guarda...']\n",
      "After: ['non ce lo dicono...', 'guarda...']\n"
     ]
    }
   ],
   "source": [
    "from spacy.language import Language\n",
    "text = \"non ce lo dicono...guarda...\"\n",
    "\n",
    "nlp = spacy.load(\"it_core_news_sm\")\n",
    "doc = nlp(text)\n",
    "print(\"Before:\", [sent.text for sent in doc.sents])\n",
    "\n",
    "@Language.component(\"set_custom_boundaries\")\n",
    "def set_custom_boundaries(doc):\n",
    "    for token in doc[:-1]:\n",
    "        if token.text == \"...\":\n",
    "            doc[token.i + 1].is_sent_start = True\n",
    "    return doc\n",
    "\n",
    "nlp.add_pipe(\"set_custom_boundaries\", before=\"parser\")\n",
    "doc = nlp(text)\n",
    "print(\"After:\", [sent.text for sent in doc.sents])"
   ]
  },
  {
   "cell_type": "markdown",
   "id": "turned-comedy",
   "metadata": {},
   "source": [
    "# STOPWORDS "
   ]
  },
  {
   "cell_type": "code",
   "execution_count": 115,
   "id": "awful-fisher",
   "metadata": {},
   "outputs": [
    {
     "name": "stdout",
     "output_type": "stream",
     "text": [
      "608\n",
      "{'farebbe', 'su', 'coll', 'facessero', 'facevano', 'nondimeno', 'fece', 'foste', 'assai', 'fummo', 'persino', 'avrebbe', 'facevi', 'quelli', 'mia', 'qualunque', 'stessi', 'tutta', 'queste', 'ma', 'ancora', 'starà', 'oltre', 'ora', 'dai', 'avuta', 'ed', 'noi', 'vari', 'sembra', 'volta', 'ha', 'quale', 'eri', 'però', 'fare', 'scopo', 'seguente', 'insieme', 'mosto', 'cento', 'torino', 'avrà', 'vostre', 'saro', 'fatto', 'moltissimo', 'siate', 'dove', 'avevo', 'certa', 'stessa', 'principalmente', 'avevi', 'conclusione', 'dice', 'adesso', 'sia', 'lavoro', 'esser', 'mezzo', 'faceva', 'perché', 'circa', 'ciascuno', 'vale', 'stando', 'ore', 'seguito', 'chicchessia', 'avuti', 'parecchi', 'sulle', 'varia', 'dell', 'gruppo', 'più', 'tempo', 'faceste', 'farò', 'aveste', 'avanti', 'visto', 'durante', 'uguali', 'qui', 'sara', 'nuovo', 'sta', 'avemmo', 'favore', 'esse', 'avranno', 'alcuno', 'stavate', 'mancanza', 'giorni', 'no', 'avessero', 'inoltre', 'tue', 'malissimo', 'cogli', 'governo', 'avute', 'della', 'pero', 'vostra', 'tre', 'avere', 'codesto', 'starete', 'nulla', 'sarete', 'nonsia', 'posteriore', 'od', 'nei', 'piglia', 'forse', 'press', 'stiate', 'saresti', 'contro', 'minimi', 'purtroppo', 'detto', 'fareste', 'eppure', 'gli', 'nessuno', 'lasciato', 'dirimpetto', 'ahime', 'nello', 'ho', 'non', 'hai', 'stato', 'primo', 'nell', 'farei', 'chi', 'già', 'suo', 'avrete', 'soltanto', 'sue', 'codesta', 'dentro', 'era', 'stemmo', 'me', 'accidenti', 'verso', 'sarò', 'avevate', 'oppure', 'faresti', 'sarei', 'siete', 'modo', 'altri', 'nostro', 'col', 'ne', 'sua', 'avrò', 'poiche', 'prima', 'che', 'nessuna', 'fanno', 'agl', 'certi', 'pochissimo', 'avendo', 'consiglio', 'colui', 'staranno', 'co', 'stavo', 'marche', 'stavano', 'fuori', 'mai', 'attesa', 'parte', 'sembri', 'cioe', 'aveva', 'meglio', 'potrebbe', 'sugli', 'abbastanza', 'casa', 'maggior', 'quante', 'una', 'avrai', 'abbia', 'ministro', 'preferibilmente', 'facesti', 'ebbi', 'starai', 'cominci', 'certo', 'negli', 'starebbe', 'cui', 'degli', 'il', 'avrebbero', 'stavi', 'io', 'a', 'hanno', 'intanto', 'avevano', 'ex', 'piuttosto', 'scola', 'percio', 'voi', 'nostra', 'spesso', 'sulla', 'sul', 'peggio', 'sarai', 'fecero', 'qualcuna', 'negl', 'stai', 'piedi', 'realmente', 'due', 'lei', 'fai', 'benissimo', 'fossimo', 'avesse', 'sig', 'partendo', 'tuo', 'giacche', 'futuro', 'parecchie', 'starei', 'parecchio', 'ultimo', 'bravo', 'tanto', 'malgrado', 'forza', 'nella', 'tutti', 'anni', 'bene', 'facessi', 'come', 'quanto', 'ella', 'senza', 'tali', 'molto', 'sono', 'colei', 'stanno', 'grazie', 'ecc', 'stati', 'cos', 'molti', 'lo', 'ossia', 'feci', 'fossero', 'starebbero', 'cio', 'mi', 'furono', 'quella', 'essi', 'grande', 'faremmo', 'quasi', 'nessun', 'momento', 'certe', 'li', 'sarebbe', 'talvolta', 'con', 'sotto', 'inc', 'stia', 'dovrà', 'tra', 'gliele', 'volte', 'po', 'in', 'solo', 'tuoi', 'vario', 'stiamo', 'nemmeno', 'erano', 'infatti', 'va', 'solito', 'staremo', 'eravate', 'staremmo', 'farete', 'facemmo', 'si', 'mila', 'al', 'ogni', 'chiunque', 'ero', 'fui', 'facesse', 'avete', 'uno', 'avresti', 'essendo', 'state', 'degl', 'deve', 'fossi', 'peccato', 'altro', 'averlo', 'conciliarsi', 'nelle', 'faccia', 'miliardi', 'se', 'presa', 'abbiate', 'avrei', 'per', 'ecco', 'attraverso', 'dello', 'gia', 'otto', 'oggi', 'dietro', 'fosti', 'entrambi', 'paese', 'perche', 'fa', 'sui', 'sopra', 'quando', 'improvviso', 'ci', 'caso', 'alcuni', 'coloro', 'persone', 'anno', 'te', 'saranno', 'vostri', 'dappertutto', 'davanti', 'vi', 'miei', 'stette', 'facessimo', 'avente', 'avremmo', 'faranno', 'codesti', 'invece', 'macche', 'mesi', 'avevamo', 'facevo', 'questo', 'ansa', 'egli', 'quello', 'successivo', 'effettivamente', 'ulteriore', 'medesimo', 'citta', 'perfino', 'dov', 'ognuna', 'diventato', 'affinche', 'osi', 'stesti', 'staresti', 'sette', 'dopo', 'quindi', 'tua', 'dovra', 'registrazione', 'fin', 'vita', 'meno', 'alla', 'scorso', 'ciascuna', 'ebbero', 'essere', 'sugl', 'farebbero', 'avremo', 'quanta', 'neppure', 'mio', 'stata', 'subito', 'questa', 'sarebbero', 'sto', 'successivamente', 'facciano', 'salvo', 'farai', 'stessero', 'tranne', 'dallo', 'dunque', 'avuto', 'sempre', 'ottanta', 'possa', 'basta', 'fosse', 'generale', 'vicino', 'cosa', 'cortesia', 'alle', 'lungo', 'anche', 'puo', 'trovato', 'dagl', 'ti', 'nel', 'stesse', 'tuttavia', 'facendo', 'lui', 'del', 'ad', 'allora', 'sareste', 'dalle', 'tutto', 'nove', 'lato', 'posto', 'dire', 'delle', 'quest', 'fu', 'magari', 'fino', 'niente', 'dall', 'stettero', 'dei', 'esempio', 'siamo', 'luogo', 'milioni', 'le', 'ahimè', 'là', 'sembrato', 'avreste', 'possedere', 'perciò', 'relativo', 'tu', 'nostri', 'srl', 'agli', 'recente', 'sarà', 'abbiamo', 'fine', 'suoi', 'novanta', 'quattro', 'facevate', 'può', 'starò', 'ebbe', 'gliela', 'brava', 'finche', 'uomo', 'facciamo', 'nazionale', 'dovunque', 'piu', 'ai', 'cima', 'stiano', 'sembrare', 'poi', 'quantunque', 'quelle', 'lontano', 'avessi', 'nostre', 'glielo', 'intorno', 'varie', 'comunque', 'loro', 'giorno', 'avesti', 'glieli', 'mediante', 'riecco', 'alcuna', 'haha', 'stava', 'stavamo', 'abbiano', 'altrui', 'mondo', 'di', 'diventa', 'tutte', 'città', 'stesso', 'steste', 'aver', 'all', 'farà', 'sull', 'quanti', 'coi', 'questi', 'facciate', 'allo', 'dal', 'diventare', 'pure', 'un', 'recentemente', 'quel', 'ieri', 'titolo', 'frattempo', 'probabilmente', 'cosi', 'stessimo', 'mentre', 'faccio', 'altrove', 'male', 'finalmente', 'faremo', 'ognuno', 'stetti', 'saremo', 'fra', 'facevamo', 'nonostante', 'concernente', 'tale', 'dagli', 'trenta', 'altrimenti', 'troppo', 'via', 'avessimo', 'anticipo', 'quali', 'qualcuno', 'pieno', 'mie', 'sullo', 'la', 'siano', 'vostro', 'saremmo', 'secondo', 'eravamo', 'così', 'qualche', 'da', 'dalla', 'poco', 'proprio', 'sei', 'stareste', 'gliene', 'qualcosa'}\n"
     ]
    }
   ],
   "source": [
    "it = spacy.load('it_core_news_sm')\n",
    "stopwords = it.Defaults.stop_words\n",
    "\n",
    "print(len(stopwords))\n",
    "print(stopwords)"
   ]
  },
  {
   "cell_type": "code",
   "execution_count": 118,
   "id": "funded-latex",
   "metadata": {},
   "outputs": [
    {
     "name": "stdout",
     "output_type": "stream",
     "text": [
      "siamo True\n",
      "andati False\n",
      "dal True\n",
      "fabbro False\n",
      "per True\n",
      "il True\n",
      "cancello False\n"
     ]
    }
   ],
   "source": [
    "text = nlp(\"siamo andati dal fabbro per il cancello\")\n",
    "for token in text:\n",
    "    print(token.text,token.is_stop)"
   ]
  },
  {
   "cell_type": "code",
   "execution_count": null,
   "id": "solid-block",
   "metadata": {},
   "outputs": [],
   "source": [
    "#exercise: eliminate stopwords"
   ]
  },
  {
   "cell_type": "code",
   "execution_count": 122,
   "id": "radical-attachment",
   "metadata": {},
   "outputs": [],
   "source": [
    "text = \"ma dai, il diritto di recesso non viene esercitato in tempo\""
   ]
  },
  {
   "cell_type": "code",
   "execution_count": 123,
   "id": "quarterly-emerald",
   "metadata": {},
   "outputs": [
    {
     "name": "stdout",
     "output_type": "stream",
     "text": [
      "Original text  :  ma dai, il diritto di recesso non viene esercitato in tempo\n",
      "Text after removing stopwords  :    dai, diritto recesso viene esercitato\n"
     ]
    }
   ],
   "source": [
    "import spacy\n",
    "#loading the english language small model of spacy\n",
    "it = spacy.load('it_core_news_sm')\n",
    "stopwords = it.Defaults.stop_words\n",
    "\n",
    "lst=[]\n",
    "for token in text.split():\n",
    "    if token.lower() not in stopwords:    #checking whether the word is not \n",
    "        lst.append(token)                    #present in the stopword list.\n",
    "        \n",
    "#Join items in the list\n",
    "print(\"Original text  : \",text)\n",
    "print(\"Text after removing stopwords  :   \",' '.join(lst))"
   ]
  },
  {
   "cell_type": "code",
   "execution_count": 121,
   "id": "sized-gauge",
   "metadata": {},
   "outputs": [],
   "source": [
    "# custom stopwords"
   ]
  },
  {
   "cell_type": "code",
   "execution_count": 124,
   "id": "formed-patch",
   "metadata": {},
   "outputs": [],
   "source": [
    "nlp.Defaults.stop_words.add(\"dai\") # adding one word"
   ]
  },
  {
   "cell_type": "code",
   "execution_count": 125,
   "id": "thrown-prague",
   "metadata": {},
   "outputs": [],
   "source": [
    "nlp.Defaults.stop_words |= {\"ma\",\"dai\"} # adding several words"
   ]
  },
  {
   "cell_type": "code",
   "execution_count": 126,
   "id": "congressional-corpus",
   "metadata": {},
   "outputs": [],
   "source": [
    "nlp.Defaults.stop_words.remove(\"dai\") # remove one word"
   ]
  },
  {
   "cell_type": "code",
   "execution_count": null,
   "id": "genetic-legend",
   "metadata": {},
   "outputs": [],
   "source": [
    "nlp.Defaults.stop_words -= {\"ma\", \"dai\"} # remove several words"
   ]
  },
  {
   "cell_type": "markdown",
   "id": "subtle-government",
   "metadata": {},
   "source": [
    "# LEMMATISATION"
   ]
  },
  {
   "cell_type": "code",
   "execution_count": 150,
   "id": "subjective-maryland",
   "metadata": {},
   "outputs": [
    {
     "name": "stdout",
     "output_type": "stream",
     "text": [
      "Apple vuole comprare una startup del Regno Unito per un miliardo di dollari\n",
      "text     TAG    POS explained        lemma   \n",
      "Apple    SP     verb                 Apple   \n",
      "vuole    VM     auxiliary            volere  \n",
      "comprare V      verb                 comprare\n",
      "una      RI     determiner           una     \n",
      "startup  S      noun                 startup \n",
      "del      E_RD   adposition           del     \n",
      "Regno    SP     proper noun          Regno   \n",
      "Unito    SP     proper noun          Unito   \n",
      "per      E      adposition           per     \n",
      "un       RI     determiner           un      \n",
      "miliardo S      noun                 miliardo\n",
      "di       E      adposition           di      \n",
      "dollari  S      noun                 dollaro \n"
     ]
    }
   ],
   "source": [
    "from spacy.lang.it.examples import sentences \n",
    "\n",
    "nlp = spacy.load(\"it_core_news_sm\")\n",
    "doc = nlp(sentences[0])\n",
    "print(doc.text)\n",
    "print(f\"{'text':{8}} {'TAG':{6}} {'POS explained':{20}} {'lemma':{8}}\")\n",
    "for token in doc:\n",
    "    print(f'{token.text:{8}} {token.tag_:{6}} {spacy.explain(token.pos_):{20}} {token.lemma_:{8}}')\n",
    "    #print(token.text, token.tag_, token.dep_)"
   ]
  },
  {
   "cell_type": "markdown",
   "id": "ideal-rapid",
   "metadata": {},
   "source": [
    "# STEMMING "
   ]
  },
  {
   "attachments": {
    "page_blank.jpeg": {
     "image/jpeg": "[encoded data removed]"
    }
   },
   "cell_type": "markdown",
   "id": "organizational-complement",
   "metadata": {},
   "source": [
    "![page_blank.jpeg](attachment:page_blank.jpeg)"
   ]
  },
  {
   "cell_type": "markdown",
   "id": "furnished-proof",
   "metadata": {},
   "source": [
    "# POS tagging "
   ]
  },
  {
   "cell_type": "code",
   "execution_count": 133,
   "id": "raised-locking",
   "metadata": {},
   "outputs": [
    {
     "name": "stdout",
     "output_type": "stream",
     "text": [
      "Apple vuole comprare una startup del Regno Unito per un miliardo di dollari\n",
      "text     TAG    POS explained       \n",
      "Apple    SP     verb                \n",
      "vuole    VM     auxiliary           \n",
      "comprare V      verb                \n",
      "una      RI     determiner          \n",
      "startup  S      noun                \n",
      "del      E_RD   adposition          \n",
      "Regno    SP     proper noun         \n",
      "Unito    SP     proper noun         \n",
      "per      E      adposition          \n",
      "un       RI     determiner          \n",
      "miliardo S      noun                \n",
      "di       E      adposition          \n",
      "dollari  S      noun                \n"
     ]
    }
   ],
   "source": [
    "from spacy.lang.it.examples import sentences \n",
    "\n",
    "nlp = spacy.load(\"it_core_news_sm\")\n",
    "doc = nlp(sentences[0])\n",
    "print(doc.text)\n",
    "print(f\"{'text':{8}} {'TAG':{6}} {'POS explained':{20}}\")\n",
    "for token in doc:\n",
    "    print(f'{token.text:{8}} {token.tag_:{6}} {spacy.explain(token.pos_):{20}}')\n",
    "    #print(token.text, token.tag_, token.dep_)"
   ]
  },
  {
   "cell_type": "code",
   "execution_count": 134,
   "id": "residential-enhancement",
   "metadata": {},
   "outputs": [],
   "source": [
    "# counting "
   ]
  },
  {
   "cell_type": "code",
   "execution_count": 135,
   "id": "impaired-kenya",
   "metadata": {},
   "outputs": [
    {
     "name": "stdout",
     "output_type": "stream",
     "text": [
      "{100: 2, 87: 1, 90: 2, 92: 3, 85: 3, 96: 2}\n",
      "  85. ADP  : 3\n",
      "  87. AUX  : 1\n",
      "  90. DET  : 2\n",
      "  92. NOUN : 3\n",
      "  96. PROPN: 2\n",
      " 100. VERB : 2\n"
     ]
    }
   ],
   "source": [
    "import spacy\n",
    "\n",
    "nlp = spacy.load(\"it_core_news_sm\")\n",
    "doc = nlp(sentences[0])\n",
    "\n",
    "# Counting the frequencies of different POS tags:\n",
    "POS_counts = doc.count_by(spacy.attrs.POS)\n",
    "print(POS_counts)\n",
    "\n",
    "for k,v in sorted(POS_counts.items()):\n",
    "    print(f'{k:{4}}. {doc.vocab[k].text:{5}}: {v}')"
   ]
  },
  {
   "cell_type": "code",
   "execution_count": 142,
   "id": "egyptian-taxation",
   "metadata": {},
   "outputs": [],
   "source": [
    "# display PoS "
   ]
  },
  {
   "cell_type": "code",
   "execution_count": 143,
   "id": "changing-excerpt",
   "metadata": {},
   "outputs": [
    {
     "name": "stderr",
     "output_type": "stream",
     "text": [
      "/home/mypc/.local/lib/python3.8/site-packages/spacy/displacy/__init__.py:97: UserWarning: [W011] It looks like you're calling displacy.serve from within a Jupyter notebook or a similar environment. This likely means you're already running a local web server, so there's no need to make displaCy start another one. Instead, you should be able to replace displacy.serve with displacy.render to show the visualization.\n",
      "  warnings.warn(Warnings.W011)\n"
     ]
    },
    {
     "data": {
      "text/html": [
       "<span class=\"tex2jax_ignore\"><!DOCTYPE html>\n",
       "<html lang=\"it\">\n",
       "    <head>\n",
       "        <title>displaCy</title>\n",
       "    </head>\n",
       "\n",
       "    <body style=\"font-size: 16px; font-family: -apple-system, BlinkMacSystemFont, 'Segoe UI', Helvetica, Arial, sans-serif, 'Apple Color Emoji', 'Segoe UI Emoji', 'Segoe UI Symbol'; padding: 4rem 2rem; direction: ltr\">\n",
       "<figure style=\"margin-bottom: 6rem\">\n",
       "<svg xmlns=\"http://www.w3.org/2000/svg\" xmlns:xlink=\"http://www.w3.org/1999/xlink\" xml:lang=\"it\" id=\"67eae90706d448afa8502b339b5966f2-0\" class=\"displacy\" width=\"2325\" height=\"399.5\" direction=\"ltr\" style=\"max-width: none; height: 399.5px; color: #000000; background: #ffffff; font-family: Arial; direction: ltr\">\n",
       "<text class=\"displacy-token\" fill=\"currentColor\" text-anchor=\"middle\" y=\"309.5\">\n",
       "    <tspan class=\"displacy-word\" fill=\"currentColor\" x=\"50\">Apple</tspan>\n",
       "    <tspan class=\"displacy-tag\" dy=\"2em\" fill=\"currentColor\" x=\"50\">VERB</tspan>\n",
       "</text>\n",
       "\n",
       "<text class=\"displacy-token\" fill=\"currentColor\" text-anchor=\"middle\" y=\"309.5\">\n",
       "    <tspan class=\"displacy-word\" fill=\"currentColor\" x=\"225\">vuole</tspan>\n",
       "    <tspan class=\"displacy-tag\" dy=\"2em\" fill=\"currentColor\" x=\"225\">AUX</tspan>\n",
       "</text>\n",
       "\n",
       "<text class=\"displacy-token\" fill=\"currentColor\" text-anchor=\"middle\" y=\"309.5\">\n",
       "    <tspan class=\"displacy-word\" fill=\"currentColor\" x=\"400\">comprare</tspan>\n",
       "    <tspan class=\"displacy-tag\" dy=\"2em\" fill=\"currentColor\" x=\"400\">VERB</tspan>\n",
       "</text>\n",
       "\n",
       "<text class=\"displacy-token\" fill=\"currentColor\" text-anchor=\"middle\" y=\"309.5\">\n",
       "    <tspan class=\"displacy-word\" fill=\"currentColor\" x=\"575\">una</tspan>\n",
       "    <tspan class=\"displacy-tag\" dy=\"2em\" fill=\"currentColor\" x=\"575\">DET</tspan>\n",
       "</text>\n",
       "\n",
       "<text class=\"displacy-token\" fill=\"currentColor\" text-anchor=\"middle\" y=\"309.5\">\n",
       "    <tspan class=\"displacy-word\" fill=\"currentColor\" x=\"750\">startup</tspan>\n",
       "    <tspan class=\"displacy-tag\" dy=\"2em\" fill=\"currentColor\" x=\"750\">NOUN</tspan>\n",
       "</text>\n",
       "\n",
       "<text class=\"displacy-token\" fill=\"currentColor\" text-anchor=\"middle\" y=\"309.5\">\n",
       "    <tspan class=\"displacy-word\" fill=\"currentColor\" x=\"925\">del</tspan>\n",
       "    <tspan class=\"displacy-tag\" dy=\"2em\" fill=\"currentColor\" x=\"925\">ADP</tspan>\n",
       "</text>\n",
       "\n",
       "<text class=\"displacy-token\" fill=\"currentColor\" text-anchor=\"middle\" y=\"309.5\">\n",
       "    <tspan class=\"displacy-word\" fill=\"currentColor\" x=\"1100\">Regno</tspan>\n",
       "    <tspan class=\"displacy-tag\" dy=\"2em\" fill=\"currentColor\" x=\"1100\">PROPN</tspan>\n",
       "</text>\n",
       "\n",
       "<text class=\"displacy-token\" fill=\"currentColor\" text-anchor=\"middle\" y=\"309.5\">\n",
       "    <tspan class=\"displacy-word\" fill=\"currentColor\" x=\"1275\">Unito</tspan>\n",
       "    <tspan class=\"displacy-tag\" dy=\"2em\" fill=\"currentColor\" x=\"1275\">PROPN</tspan>\n",
       "</text>\n",
       "\n",
       "<text class=\"displacy-token\" fill=\"currentColor\" text-anchor=\"middle\" y=\"309.5\">\n",
       "    <tspan class=\"displacy-word\" fill=\"currentColor\" x=\"1450\">per</tspan>\n",
       "    <tspan class=\"displacy-tag\" dy=\"2em\" fill=\"currentColor\" x=\"1450\">ADP</tspan>\n",
       "</text>\n",
       "\n",
       "<text class=\"displacy-token\" fill=\"currentColor\" text-anchor=\"middle\" y=\"309.5\">\n",
       "    <tspan class=\"displacy-word\" fill=\"currentColor\" x=\"1625\">un</tspan>\n",
       "    <tspan class=\"displacy-tag\" dy=\"2em\" fill=\"currentColor\" x=\"1625\">DET</tspan>\n",
       "</text>\n",
       "\n",
       "<text class=\"displacy-token\" fill=\"currentColor\" text-anchor=\"middle\" y=\"309.5\">\n",
       "    <tspan class=\"displacy-word\" fill=\"currentColor\" x=\"1800\">miliardo</tspan>\n",
       "    <tspan class=\"displacy-tag\" dy=\"2em\" fill=\"currentColor\" x=\"1800\">NOUN</tspan>\n",
       "</text>\n",
       "\n",
       "<text class=\"displacy-token\" fill=\"currentColor\" text-anchor=\"middle\" y=\"309.5\">\n",
       "    <tspan class=\"displacy-word\" fill=\"currentColor\" x=\"1975\">di</tspan>\n",
       "    <tspan class=\"displacy-tag\" dy=\"2em\" fill=\"currentColor\" x=\"1975\">ADP</tspan>\n",
       "</text>\n",
       "\n",
       "<text class=\"displacy-token\" fill=\"currentColor\" text-anchor=\"middle\" y=\"309.5\">\n",
       "    <tspan class=\"displacy-word\" fill=\"currentColor\" x=\"2150\">dollari</tspan>\n",
       "    <tspan class=\"displacy-tag\" dy=\"2em\" fill=\"currentColor\" x=\"2150\">NOUN</tspan>\n",
       "</text>\n",
       "\n",
       "<g class=\"displacy-arrow\">\n",
       "    <path class=\"displacy-arc\" id=\"arrow-67eae90706d448afa8502b339b5966f2-0-0\" stroke-width=\"2px\" d=\"M70,264.5 C70,89.5 395.0,89.5 395.0,264.5\" fill=\"none\" stroke=\"currentColor\"/>\n",
       "    <text dy=\"1.25em\" style=\"font-size: 0.8em; letter-spacing: 1px\">\n",
       "        <textPath xlink:href=\"#arrow-67eae90706d448afa8502b339b5966f2-0-0\" class=\"displacy-label\" startOffset=\"50%\" side=\"left\" fill=\"currentColor\" text-anchor=\"middle\">advmod</textPath>\n",
       "    </text>\n",
       "    <path class=\"displacy-arrowhead\" d=\"M70,266.5 L62,254.5 78,254.5\" fill=\"currentColor\"/>\n",
       "</g>\n",
       "\n",
       "<g class=\"displacy-arrow\">\n",
       "    <path class=\"displacy-arc\" id=\"arrow-67eae90706d448afa8502b339b5966f2-0-1\" stroke-width=\"2px\" d=\"M245,264.5 C245,177.0 390.0,177.0 390.0,264.5\" fill=\"none\" stroke=\"currentColor\"/>\n",
       "    <text dy=\"1.25em\" style=\"font-size: 0.8em; letter-spacing: 1px\">\n",
       "        <textPath xlink:href=\"#arrow-67eae90706d448afa8502b339b5966f2-0-1\" class=\"displacy-label\" startOffset=\"50%\" side=\"left\" fill=\"currentColor\" text-anchor=\"middle\">aux</textPath>\n",
       "    </text>\n",
       "    <path class=\"displacy-arrowhead\" d=\"M245,266.5 L237,254.5 253,254.5\" fill=\"currentColor\"/>\n",
       "</g>\n",
       "\n",
       "<g class=\"displacy-arrow\">\n",
       "    <path class=\"displacy-arc\" id=\"arrow-67eae90706d448afa8502b339b5966f2-0-2\" stroke-width=\"2px\" d=\"M595,264.5 C595,177.0 740.0,177.0 740.0,264.5\" fill=\"none\" stroke=\"currentColor\"/>\n",
       "    <text dy=\"1.25em\" style=\"font-size: 0.8em; letter-spacing: 1px\">\n",
       "        <textPath xlink:href=\"#arrow-67eae90706d448afa8502b339b5966f2-0-2\" class=\"displacy-label\" startOffset=\"50%\" side=\"left\" fill=\"currentColor\" text-anchor=\"middle\">det</textPath>\n",
       "    </text>\n",
       "    <path class=\"displacy-arrowhead\" d=\"M595,266.5 L587,254.5 603,254.5\" fill=\"currentColor\"/>\n",
       "</g>\n",
       "\n",
       "<g class=\"displacy-arrow\">\n",
       "    <path class=\"displacy-arc\" id=\"arrow-67eae90706d448afa8502b339b5966f2-0-3\" stroke-width=\"2px\" d=\"M420,264.5 C420,89.5 745.0,89.5 745.0,264.5\" fill=\"none\" stroke=\"currentColor\"/>\n",
       "    <text dy=\"1.25em\" style=\"font-size: 0.8em; letter-spacing: 1px\">\n",
       "        <textPath xlink:href=\"#arrow-67eae90706d448afa8502b339b5966f2-0-3\" class=\"displacy-label\" startOffset=\"50%\" side=\"left\" fill=\"currentColor\" text-anchor=\"middle\">obj</textPath>\n",
       "    </text>\n",
       "    <path class=\"displacy-arrowhead\" d=\"M745.0,266.5 L753.0,254.5 737.0,254.5\" fill=\"currentColor\"/>\n",
       "</g>\n",
       "\n",
       "<g class=\"displacy-arrow\">\n",
       "    <path class=\"displacy-arc\" id=\"arrow-67eae90706d448afa8502b339b5966f2-0-4\" stroke-width=\"2px\" d=\"M945,264.5 C945,177.0 1090.0,177.0 1090.0,264.5\" fill=\"none\" stroke=\"currentColor\"/>\n",
       "    <text dy=\"1.25em\" style=\"font-size: 0.8em; letter-spacing: 1px\">\n",
       "        <textPath xlink:href=\"#arrow-67eae90706d448afa8502b339b5966f2-0-4\" class=\"displacy-label\" startOffset=\"50%\" side=\"left\" fill=\"currentColor\" text-anchor=\"middle\">case</textPath>\n",
       "    </text>\n",
       "    <path class=\"displacy-arrowhead\" d=\"M945,266.5 L937,254.5 953,254.5\" fill=\"currentColor\"/>\n",
       "</g>\n",
       "\n",
       "<g class=\"displacy-arrow\">\n",
       "    <path class=\"displacy-arc\" id=\"arrow-67eae90706d448afa8502b339b5966f2-0-5\" stroke-width=\"2px\" d=\"M770,264.5 C770,89.5 1095.0,89.5 1095.0,264.5\" fill=\"none\" stroke=\"currentColor\"/>\n",
       "    <text dy=\"1.25em\" style=\"font-size: 0.8em; letter-spacing: 1px\">\n",
       "        <textPath xlink:href=\"#arrow-67eae90706d448afa8502b339b5966f2-0-5\" class=\"displacy-label\" startOffset=\"50%\" side=\"left\" fill=\"currentColor\" text-anchor=\"middle\">nmod</textPath>\n",
       "    </text>\n",
       "    <path class=\"displacy-arrowhead\" d=\"M1095.0,266.5 L1103.0,254.5 1087.0,254.5\" fill=\"currentColor\"/>\n",
       "</g>\n",
       "\n",
       "<g class=\"displacy-arrow\">\n",
       "    <path class=\"displacy-arc\" id=\"arrow-67eae90706d448afa8502b339b5966f2-0-6\" stroke-width=\"2px\" d=\"M1120,264.5 C1120,177.0 1265.0,177.0 1265.0,264.5\" fill=\"none\" stroke=\"currentColor\"/>\n",
       "    <text dy=\"1.25em\" style=\"font-size: 0.8em; letter-spacing: 1px\">\n",
       "        <textPath xlink:href=\"#arrow-67eae90706d448afa8502b339b5966f2-0-6\" class=\"displacy-label\" startOffset=\"50%\" side=\"left\" fill=\"currentColor\" text-anchor=\"middle\">flat:name</textPath>\n",
       "    </text>\n",
       "    <path class=\"displacy-arrowhead\" d=\"M1265.0,266.5 L1273.0,254.5 1257.0,254.5\" fill=\"currentColor\"/>\n",
       "</g>\n",
       "\n",
       "<g class=\"displacy-arrow\">\n",
       "    <path class=\"displacy-arc\" id=\"arrow-67eae90706d448afa8502b339b5966f2-0-7\" stroke-width=\"2px\" d=\"M1470,264.5 C1470,89.5 1795.0,89.5 1795.0,264.5\" fill=\"none\" stroke=\"currentColor\"/>\n",
       "    <text dy=\"1.25em\" style=\"font-size: 0.8em; letter-spacing: 1px\">\n",
       "        <textPath xlink:href=\"#arrow-67eae90706d448afa8502b339b5966f2-0-7\" class=\"displacy-label\" startOffset=\"50%\" side=\"left\" fill=\"currentColor\" text-anchor=\"middle\">case</textPath>\n",
       "    </text>\n",
       "    <path class=\"displacy-arrowhead\" d=\"M1470,266.5 L1462,254.5 1478,254.5\" fill=\"currentColor\"/>\n",
       "</g>\n",
       "\n",
       "<g class=\"displacy-arrow\">\n",
       "    <path class=\"displacy-arc\" id=\"arrow-67eae90706d448afa8502b339b5966f2-0-8\" stroke-width=\"2px\" d=\"M1645,264.5 C1645,177.0 1790.0,177.0 1790.0,264.5\" fill=\"none\" stroke=\"currentColor\"/>\n",
       "    <text dy=\"1.25em\" style=\"font-size: 0.8em; letter-spacing: 1px\">\n",
       "        <textPath xlink:href=\"#arrow-67eae90706d448afa8502b339b5966f2-0-8\" class=\"displacy-label\" startOffset=\"50%\" side=\"left\" fill=\"currentColor\" text-anchor=\"middle\">det</textPath>\n",
       "    </text>\n",
       "    <path class=\"displacy-arrowhead\" d=\"M1645,266.5 L1637,254.5 1653,254.5\" fill=\"currentColor\"/>\n",
       "</g>\n",
       "\n",
       "<g class=\"displacy-arrow\">\n",
       "    <path class=\"displacy-arc\" id=\"arrow-67eae90706d448afa8502b339b5966f2-0-9\" stroke-width=\"2px\" d=\"M420,264.5 C420,2.0 1800.0,2.0 1800.0,264.5\" fill=\"none\" stroke=\"currentColor\"/>\n",
       "    <text dy=\"1.25em\" style=\"font-size: 0.8em; letter-spacing: 1px\">\n",
       "        <textPath xlink:href=\"#arrow-67eae90706d448afa8502b339b5966f2-0-9\" class=\"displacy-label\" startOffset=\"50%\" side=\"left\" fill=\"currentColor\" text-anchor=\"middle\">obl</textPath>\n",
       "    </text>\n",
       "    <path class=\"displacy-arrowhead\" d=\"M1800.0,266.5 L1808.0,254.5 1792.0,254.5\" fill=\"currentColor\"/>\n",
       "</g>\n",
       "\n",
       "<g class=\"displacy-arrow\">\n",
       "    <path class=\"displacy-arc\" id=\"arrow-67eae90706d448afa8502b339b5966f2-0-10\" stroke-width=\"2px\" d=\"M1995,264.5 C1995,177.0 2140.0,177.0 2140.0,264.5\" fill=\"none\" stroke=\"currentColor\"/>\n",
       "    <text dy=\"1.25em\" style=\"font-size: 0.8em; letter-spacing: 1px\">\n",
       "        <textPath xlink:href=\"#arrow-67eae90706d448afa8502b339b5966f2-0-10\" class=\"displacy-label\" startOffset=\"50%\" side=\"left\" fill=\"currentColor\" text-anchor=\"middle\">case</textPath>\n",
       "    </text>\n",
       "    <path class=\"displacy-arrowhead\" d=\"M1995,266.5 L1987,254.5 2003,254.5\" fill=\"currentColor\"/>\n",
       "</g>\n",
       "\n",
       "<g class=\"displacy-arrow\">\n",
       "    <path class=\"displacy-arc\" id=\"arrow-67eae90706d448afa8502b339b5966f2-0-11\" stroke-width=\"2px\" d=\"M1820,264.5 C1820,89.5 2145.0,89.5 2145.0,264.5\" fill=\"none\" stroke=\"currentColor\"/>\n",
       "    <text dy=\"1.25em\" style=\"font-size: 0.8em; letter-spacing: 1px\">\n",
       "        <textPath xlink:href=\"#arrow-67eae90706d448afa8502b339b5966f2-0-11\" class=\"displacy-label\" startOffset=\"50%\" side=\"left\" fill=\"currentColor\" text-anchor=\"middle\">nmod</textPath>\n",
       "    </text>\n",
       "    <path class=\"displacy-arrowhead\" d=\"M2145.0,266.5 L2153.0,254.5 2137.0,254.5\" fill=\"currentColor\"/>\n",
       "</g>\n",
       "</svg>\n",
       "</figure>\n",
       "</body>\n",
       "</html></span>"
      ],
      "text/plain": [
       "<IPython.core.display.HTML object>"
      ]
     },
     "metadata": {},
     "output_type": "display_data"
    },
    {
     "name": "stdout",
     "output_type": "stream",
     "text": [
      "\n",
      "Using the 'dep' visualizer\n",
      "Serving on http://0.0.0.0:5000 ...\n",
      "\n",
      "Shutting down server on port 5000.\n"
     ]
    }
   ],
   "source": [
    "import spacy\n",
    "from spacy import displacy\n",
    "\n",
    "nlp = spacy.load(\"it_core_news_sm\")\n",
    "doc = nlp(\"Marco mangia la mela rossa\")\n",
    "displacy.serve(doc, style=\"dep\")"
   ]
  },
  {
   "cell_type": "code",
   "execution_count": 146,
   "id": "antique-wisconsin",
   "metadata": {},
   "outputs": [
    {
     "data": {
      "text/html": [
       "<span class=\"tex2jax_ignore\"><!DOCTYPE html>\n",
       "<html lang=\"it\">\n",
       "    <head>\n",
       "        <title>displaCy</title>\n",
       "    </head>\n",
       "\n",
       "    <body style=\"font-size: 16px; font-family: -apple-system, BlinkMacSystemFont, 'Segoe UI', Helvetica, Arial, sans-serif, 'Apple Color Emoji', 'Segoe UI Emoji', 'Segoe UI Symbol'; padding: 4rem 2rem; direction: ltr\">\n",
       "<figure style=\"margin-bottom: 6rem\">\n",
       "<svg xmlns=\"http://www.w3.org/2000/svg\" xmlns:xlink=\"http://www.w3.org/1999/xlink\" xml:lang=\"it\" id=\"b18e7c441e7e4e68ae00b4f71257e99a-0\" class=\"displacy\" width=\"600\" height=\"247.0\" direction=\"ltr\" style=\"max-width: none; height: 247.0px; color: yellow; background: #09a3d5; font-family: Times; direction: ltr\">\n",
       "<text class=\"displacy-token\" fill=\"currentColor\" text-anchor=\"middle\" y=\"157.0\">\n",
       "    <tspan class=\"displacy-word\" fill=\"currentColor\" x=\"50\">Marco</tspan>\n",
       "    <tspan class=\"displacy-tag\" dy=\"2em\" fill=\"currentColor\" x=\"50\">PROPN</tspan>\n",
       "</text>\n",
       "\n",
       "<text class=\"displacy-token\" fill=\"currentColor\" text-anchor=\"middle\" y=\"157.0\">\n",
       "    <tspan class=\"displacy-word\" fill=\"currentColor\" x=\"160\">mangia</tspan>\n",
       "    <tspan class=\"displacy-tag\" dy=\"2em\" fill=\"currentColor\" x=\"160\">VERB</tspan>\n",
       "</text>\n",
       "\n",
       "<text class=\"displacy-token\" fill=\"currentColor\" text-anchor=\"middle\" y=\"157.0\">\n",
       "    <tspan class=\"displacy-word\" fill=\"currentColor\" x=\"270\">la</tspan>\n",
       "    <tspan class=\"displacy-tag\" dy=\"2em\" fill=\"currentColor\" x=\"270\">DET</tspan>\n",
       "</text>\n",
       "\n",
       "<text class=\"displacy-token\" fill=\"currentColor\" text-anchor=\"middle\" y=\"157.0\">\n",
       "    <tspan class=\"displacy-word\" fill=\"currentColor\" x=\"380\">mela</tspan>\n",
       "    <tspan class=\"displacy-tag\" dy=\"2em\" fill=\"currentColor\" x=\"380\">NOUN</tspan>\n",
       "</text>\n",
       "\n",
       "<text class=\"displacy-token\" fill=\"currentColor\" text-anchor=\"middle\" y=\"157.0\">\n",
       "    <tspan class=\"displacy-word\" fill=\"currentColor\" x=\"490\">rossa</tspan>\n",
       "    <tspan class=\"displacy-tag\" dy=\"2em\" fill=\"currentColor\" x=\"490\">ADJ</tspan>\n",
       "</text>\n",
       "\n",
       "<g class=\"displacy-arrow\">\n",
       "    <path class=\"displacy-arc\" id=\"arrow-b18e7c441e7e4e68ae00b4f71257e99a-0-0\" stroke-width=\"2px\" d=\"M62,112.0 62,93.66666666666667 157.0,93.66666666666667 157.0,112.0\" fill=\"none\" stroke=\"currentColor\"/>\n",
       "    <text dy=\"1.25em\" style=\"font-size: 0.8em; letter-spacing: 1px\">\n",
       "        <textPath xlink:href=\"#arrow-b18e7c441e7e4e68ae00b4f71257e99a-0-0\" class=\"displacy-label\" startOffset=\"50%\" side=\"left\" fill=\"currentColor\" text-anchor=\"middle\">nsubj</textPath>\n",
       "    </text>\n",
       "    <path class=\"displacy-arrowhead\" d=\"M62,114.0 L58,106.0 66,106.0\" fill=\"currentColor\"/>\n",
       "</g>\n",
       "\n",
       "<g class=\"displacy-arrow\">\n",
       "    <path class=\"displacy-arc\" id=\"arrow-b18e7c441e7e4e68ae00b4f71257e99a-0-1\" stroke-width=\"2px\" d=\"M282,112.0 282,93.66666666666667 377.0,93.66666666666667 377.0,112.0\" fill=\"none\" stroke=\"currentColor\"/>\n",
       "    <text dy=\"1.25em\" style=\"font-size: 0.8em; letter-spacing: 1px\">\n",
       "        <textPath xlink:href=\"#arrow-b18e7c441e7e4e68ae00b4f71257e99a-0-1\" class=\"displacy-label\" startOffset=\"50%\" side=\"left\" fill=\"currentColor\" text-anchor=\"middle\">det</textPath>\n",
       "    </text>\n",
       "    <path class=\"displacy-arrowhead\" d=\"M282,114.0 L278,106.0 286,106.0\" fill=\"currentColor\"/>\n",
       "</g>\n",
       "\n",
       "<g class=\"displacy-arrow\">\n",
       "    <path class=\"displacy-arc\" id=\"arrow-b18e7c441e7e4e68ae00b4f71257e99a-0-2\" stroke-width=\"2px\" d=\"M172,112.0 172,75.33333333333334 380.0,75.33333333333334 380.0,112.0\" fill=\"none\" stroke=\"currentColor\"/>\n",
       "    <text dy=\"1.25em\" style=\"font-size: 0.8em; letter-spacing: 1px\">\n",
       "        <textPath xlink:href=\"#arrow-b18e7c441e7e4e68ae00b4f71257e99a-0-2\" class=\"displacy-label\" startOffset=\"50%\" side=\"left\" fill=\"currentColor\" text-anchor=\"middle\">obj</textPath>\n",
       "    </text>\n",
       "    <path class=\"displacy-arrowhead\" d=\"M380.0,114.0 L384.0,106.0 376.0,106.0\" fill=\"currentColor\"/>\n",
       "</g>\n",
       "\n",
       "<g class=\"displacy-arrow\">\n",
       "    <path class=\"displacy-arc\" id=\"arrow-b18e7c441e7e4e68ae00b4f71257e99a-0-3\" stroke-width=\"2px\" d=\"M392,112.0 392,93.66666666666667 487.0,93.66666666666667 487.0,112.0\" fill=\"none\" stroke=\"currentColor\"/>\n",
       "    <text dy=\"1.25em\" style=\"font-size: 0.8em; letter-spacing: 1px\">\n",
       "        <textPath xlink:href=\"#arrow-b18e7c441e7e4e68ae00b4f71257e99a-0-3\" class=\"displacy-label\" startOffset=\"50%\" side=\"left\" fill=\"currentColor\" text-anchor=\"middle\">amod</textPath>\n",
       "    </text>\n",
       "    <path class=\"displacy-arrowhead\" d=\"M487.0,114.0 L491.0,106.0 483.0,106.0\" fill=\"currentColor\"/>\n",
       "</g>\n",
       "</svg>\n",
       "</figure>\n",
       "</body>\n",
       "</html></span>"
      ],
      "text/plain": [
       "<IPython.core.display.HTML object>"
      ]
     },
     "metadata": {},
     "output_type": "display_data"
    },
    {
     "name": "stdout",
     "output_type": "stream",
     "text": [
      "\n",
      "Using the 'dep' visualizer\n",
      "Serving on http://0.0.0.0:5000 ...\n",
      "\n",
      "Shutting down server on port 5000.\n"
     ]
    }
   ],
   "source": [
    "import spacy\n",
    "from spacy import displacy\n",
    "\n",
    "nlp = spacy.load(\"it_core_news_sm\")\n",
    "doc = nlp(\"Marco mangia la mela rossa\")\n",
    "options = {'distance': 110, 'compact': 'True', 'color': 'yellow', 'bg': '#09a3d5', 'font': 'Times'}\n",
    "\n",
    "displacy.serve(doc, style=\"dep\",options=options)"
   ]
  }
 ],
 "metadata": {
  "kernelspec": {
   "display_name": "Python 3",
   "language": "python",
   "name": "python3"
  },
  "language_info": {
   "codemirror_mode": {
    "name": "ipython",
    "version": 3
   },
   "file_extension": ".py",
   "mimetype": "text/x-python",
   "name": "python",
   "nbconvert_exporter": "python",
   "pygments_lexer": "ipython3",
   "version": "3.8.10"
  }
 },
 "nbformat": 4,
 "nbformat_minor": 5
}
